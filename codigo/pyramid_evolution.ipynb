{
 "cells": [
  {
   "cell_type": "code",
   "execution_count": 1,
   "metadata": {},
   "outputs": [],
   "source": [
    "import pandas as pd\n",
    "import numpy as np\n",
    "\n",
    "import matplotlib.pyplot as plt\n",
    "import seaborn as sns"
   ]
  },
  {
   "cell_type": "code",
   "execution_count": 2,
   "metadata": {},
   "outputs": [
    {
     "data": {
      "text/plain": [
       "'/home/blaso/OneDrive/Oxford/PhD/side_projects/COVID-19 Epidemic Model/Mexico-datos/codigo'"
      ]
     },
     "execution_count": 2,
     "metadata": {},
     "output_type": "execute_result"
    }
   ],
   "source": [
    "pwd"
   ]
  },
  {
   "cell_type": "code",
   "execution_count": 110,
   "metadata": {},
   "outputs": [
    {
     "name": "stdout",
     "output_type": "stream",
     "text": [
      "CPU times: user 1.28 s, sys: 91.7 ms, total: 1.37 s\n",
      "Wall time: 1.37 s\n"
     ]
    },
    {
     "data": {
      "text/plain": [
       "(479528, 35)"
      ]
     },
     "execution_count": 110,
     "metadata": {},
     "output_type": "execute_result"
    }
   ],
   "source": [
    "%time df = pd.read_csv( '../datos_abiertos/raw/datos_abiertos_20200621.zip', compression='zip' )\n",
    "df.shape"
   ]
  },
  {
   "cell_type": "code",
   "execution_count": 113,
   "metadata": {},
   "outputs": [
    {
     "data": {
      "text/plain": [
       "(180545, 35)"
      ]
     },
     "execution_count": 113,
     "metadata": {},
     "output_type": "execute_result"
    }
   ],
   "source": [
    "idx_confirmados = df['RESULTADO'] == 1\n",
    "idx_defunciones = idx_confirmados & (df['FECHA_DEF'] != '9999-99-99')\n",
    "\n",
    "# Deaths\n",
    "df_c = df.loc[idx_confirmados]\n",
    "df_c.shape"
   ]
  },
  {
   "cell_type": "code",
   "execution_count": 133,
   "metadata": {},
   "outputs": [
    {
     "name": "stdout",
     "output_type": "stream",
     "text": [
      "range: 0-25000\n"
     ]
    },
    {
     "name": "stderr",
     "output_type": "stream",
     "text": [
      "/home/blaso/.local/lib/python3.6/site-packages/ipykernel_launcher.py:10: SettingWithCopyWarning: \n",
      "A value is trying to be set on a copy of a slice from a DataFrame.\n",
      "Try using .loc[row_indexer,col_indexer] = value instead\n",
      "\n",
      "See the caveats in the documentation: http://pandas.pydata.org/pandas-docs/stable/indexing.html#indexing-view-versus-copy\n",
      "  # Remove the CWD from sys.path while we load stuff.\n"
     ]
    },
    {
     "data": {
      "text/plain": [
       "[Text(0, 0.5, 'Age-Group'),\n",
       " (-1500, 1500),\n",
       " Text(0.5, 0, 'Population'),\n",
       " Text(0.5, 1.0, 'Population Pyramid')]"
      ]
     },
     "execution_count": 133,
     "metadata": {},
     "output_type": "execute_result"
    },
    {
     "data": {
      "image/png": "[encoded data removed]",
      "text/plain": [
       "<Figure size 432x288 with 1 Axes>"
      ]
     },
     "metadata": {
      "needs_background": "light"
     },
     "output_type": "display_data"
    }
   ],
   "source": [
    "i = 0\n",
    "N = 25000\n",
    "df_ct = df_c.iloc[i*N:(i+1)*N]\n",
    "\n",
    "print( 'range: {}-{}'.format(i*N, (i+1)*N))\n",
    "\n",
    "cat_sexo={1: 'MUJER', 2: 'HOMBRE', 99: 'NO ESPECIFICADO'}\n",
    "\n",
    "df_cte = df_ct[['SEXO', 'EDAD', 'ID_REGISTRO']]\n",
    "df_cte['EDAD'] = df_cte['EDAD'].apply(lambda x: x // 5)\n",
    "\n",
    "gby = (df_cte.groupby(['SEXO', 'EDAD'])\n",
    "       .count()['ID_REGISTRO']\n",
    "       .unstack(level=0))\n",
    "\n",
    "# reindex = True\n",
    "# if reindex:\n",
    "#     idx = range(gby.index.min(), gby.index.max() + 1)\n",
    "#     gby = gby.reindex(idx)\n",
    "\n",
    "gby = gby.fillna(0).astype('int')\n",
    "gby.index = gby.index.map(lambda x: f'{5*x}-{5*x+4}')\n",
    "gby = gby.rename(columns=cat_sexo)\n",
    "\n",
    "# Prepare for histogram\n",
    "gby = gby.reset_index()\n",
    "gby['HOMBRE'] = -gby['HOMBRE']\n",
    "gby = gby.reindex(index=gby.index[::-1])\n",
    "\n",
    "bar_plot = sns.barplot(x='HOMBRE', y='EDAD', data=gby)#, order=AgeClass)\n",
    "bar_plot = sns.barplot(x='MUJER', y='EDAD', data=gby)\n",
    "\n",
    "bar_plot.set(xlabel=\"Population\", ylabel=\"Age-Group\", title = \"Population Pyramid\", xlim=(-1500, 1500))"
   ]
  },
  {
   "cell_type": "markdown",
   "metadata": {},
   "source": [
    "ToDO: \n",
    "- Make these bar plots in a panel where each panel shows the evolution of the pyramid over time (normalized by population on age strata)"
   ]
  },
  {
   "cell_type": "code",
   "execution_count": null,
   "metadata": {},
   "outputs": [],
   "source": [
    "# X_train_data = pd.DataFrame({'Age':[0,2,4,13,35,-1,54]})\n",
    "\n",
    "# bins= [0,2,4,13,20,110]\n",
    "# labels = ['Infant','Toddler','Kid','Teen','Adult']\n",
    "# X_train_data['AgeGroup'] = pd.cut(X_train_data['Age'], bins=bins, labels=labels, right=False)\n",
    "# print (X_train_data)\n",
    "#    Age AgeGroup\n",
    "# 0    0   Infant\n",
    "# 1    2  Toddler\n",
    "# 2    4      Kid\n",
    "# 3   13     Teen\n",
    "# 4   35    Adult\n",
    "# 5   -1      NaN\n",
    "# 6   54    Adult"
   ]
  }
 ],
 "metadata": {
  "kernelspec": {
   "display_name": "Python 3",
   "language": "python",
   "name": "python3"
  },
  "language_info": {
   "codemirror_mode": {
    "name": "ipython",
    "version": 3
   },
   "file_extension": ".py",
   "mimetype": "text/x-python",
   "name": "python",
   "nbconvert_exporter": "python",
   "pygments_lexer": "ipython3",
   "version": "3.6.9"
  },
  "toc": {
   "base_numbering": 1,
   "nav_menu": {},
   "number_sections": true,
   "sideBar": true,
   "skip_h1_title": false,
   "title_cell": "Table of Contents",
   "title_sidebar": "Contents",
   "toc_cell": false,
   "toc_position": {},
   "toc_section_display": true,
   "toc_window_display": false
  }
 },
 "nbformat": 4,
 "nbformat_minor": 2
}
